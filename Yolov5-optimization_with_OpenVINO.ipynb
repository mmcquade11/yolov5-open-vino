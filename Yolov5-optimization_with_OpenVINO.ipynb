{
 "cells": [
  {
   "cell_type": "markdown",
   "metadata": {
    "id": "J2o5c4mzc36k"
   },
   "source": [
    "# Yolov5 Object Detection with OpenVINO™ Toolkit™\n",
    "\n",
    "The YOLOv5 algorithm is making big waves in the computer vision and machine learning communities.\n",
    "It is real-time object detection algorithm that performs image recognition tasks by taking an image as input \n",
    "and then predicting bounding boxes and class probabilities for each object in the image.\n",
    "\n",
    "YOLO stands for “You Only Look Once”, it is a popular family of real-time object detection algorithms. \n",
    "The original YOLO object detector was first released in 2016. Since then, different versions and variants of YOLO have been proposed, each providing a significant increase in performance and efficiency.\n",
    "YOLOv7 is next stage of evalution of YOLO models family which provides a greatly improved real-time object detection accuracy without increasing the inference costs.\n",
    "More details about its realization can be found in original model [paper](https://arxiv.org/abs/2207.02696) and [repository](https://github.com/WongKinYiu/yolov7)\n",
    "\n",
    "Real-time object detection is often used as a key component in computer vision systems. \n",
    "Applications that use real-time object detection models include video analytics, robotics, autonomous vehicles, multi-object tracking and object counting, medical image analysis, and many others.\n",
    "\n",
    "\n",
    "This tutorial demonstrates step-by-step instructions on how to run and optimize PyTorch\\* Yolo V7 with OpenVINO.\n",
    "\n",
    "The tutorial consists of the following steps:\n",
    "- Prepare PyTorch model\n",
    "- Download and prepare dataset\n",
    "- Validate original model\n",
    "- Convert PyTorch model to ONNX\n",
    "- Convert ONNX model to OpenVINO IR\n",
    "- Validate converted model"
   ]
  },
  {
   "cell_type": "markdown",
   "metadata": {
    "id": "p2t9utqYc36o",
    "tags": []
   },
   "source": [
    "## Install OpenVINO in Amazon SageMaker Studio\n",
    "\n",
    "Instructions to Run the OpenVINO Notebooks in [Amazon SageMaker Studio](https://github.com/openvinotoolkit/openvino_notebooks/wiki/SageMaker)."
   ]
  },
  {
   "cell_type": "markdown",
   "metadata": {},
   "source": [
    "## Install OpenVINO in local environment\n",
    "\n",
    "Instructions to install OpenVINO on [local machine](https://github.com/openvinotoolkit/openvino_notebooks#-installation-guide)."
   ]
  },
  {
   "cell_type": "markdown",
   "metadata": {},
   "source": [
    "## Proceed to next steps once an installation path has been chosen and configured"
   ]
  },
  {
   "cell_type": "markdown",
   "metadata": {
    "id": "WneRvU9Fc36o",
    "jp-MarkdownHeadingCollapsed": true,
    "tags": []
   },
   "source": [
    "## Get Pytorch model\n",
    "\n",
    "Generally, PyTorch models represent an instance of the [torch.nn.Module](https://pytorch.org/docs/stable/generated/torch.nn.Module.html) class, initialized by a state dictionary with model weights.\n",
    "We will use the YOLOv7 tiny model pretrained on COCO dataset, which available in this [repo](https://github.com/WongKinYiu/yolov7).\n",
    "Typical steps to obtain pretrained model:\n",
    "1. Create instance of model class\n",
    "2. Load checkpoint state dict, which contains pretrained model weights\n",
    "3. Turn model to evaluation for switching some operations to inference mode\n",
    "\n",
    "In this case, the model creators provide a tool that enables converting the YOLOv7 model to ONNX, so we don't need to do these steps manually."
   ]
  },
  {
   "cell_type": "markdown",
   "metadata": {
    "id": "HTDdRopLc36p"
   },
   "source": [
    "## Prerequisites"
   ]
  },
  {
   "cell_type": "code",
   "execution_count": null,
   "metadata": {
    "colab": {
     "base_uri": "https://localhost:8080/",
     "height": 356
    },
    "executionInfo": {
     "elapsed": 11,
     "status": "error",
     "timestamp": 1676789674925,
     "user": {
      "displayName": "Anisha Udayakumar",
      "userId": "15636150326071445597"
     },
     "user_tz": -330
    },
    "id": "gBsjcgpuc36p",
    "outputId": "e21e24de-c610-486e-da39-43308b9781ed"
   },
   "outputs": [],
   "source": [
    "import sys\n",
    "from pathlib import Path\n",
    "sys.path.append(\"../utils\")\n",
    "from notebook_utils import download_file\n",
    "from IPython.display import Markdown, display"
   ]
  },
  {
   "cell_type": "code",
   "execution_count": null,
   "metadata": {
    "executionInfo": {
     "elapsed": 9,
     "status": "aborted",
     "timestamp": 1676789674926,
     "user": {
      "displayName": "Anisha Udayakumar",
      "userId": "15636150326071445597"
     },
     "user_tz": -330
    },
    "id": "tvX3_WWFc36q"
   },
   "outputs": [],
   "source": [
    "# Clone YOLOv5 repo\n",
    "if not Path('yolov5').exists():\n",
    "    !git clone https://github.com/ultralytics/yolov5\n",
    "%cd yolov5"
   ]
  },
  {
   "cell_type": "code",
   "execution_count": null,
   "metadata": {
    "executionInfo": {
     "elapsed": 10,
     "status": "aborted",
     "timestamp": 1676789674927,
     "user": {
      "displayName": "Anisha Udayakumar",
      "userId": "15636150326071445597"
     },
     "user_tz": -330
    },
    "id": "_nmvqsoPc36r"
   },
   "outputs": [],
   "source": [
    "print(\"Convert PyTorch model to OpenVINO Model:\")\n",
    "command_export = f'{\"python export.py --weights yolov5s/yolov5s.pt --imgsz 640 --batch-size 1 --include openvino\"}'\n",
    "display(Markdown(f\"`{command_export}`\"))\n",
    "! $command_export"
   ]
  },
  {
   "cell_type": "markdown",
   "metadata": {
    "id": "prWiftdnc36r"
   },
   "source": [
    "Download the data and trained model to the directory.\n",
    "\n",
    "More details can be found in [Yolov5 Object Detection with OpenVINO™ Toolkit™](https://github.com/AnishaUdayakumar/YoloV5-Football-Tracker/blob/main/README.md) notebook repo."
   ]
  },
  {
   "cell_type": "code",
   "execution_count": null,
   "metadata": {
    "executionInfo": {
     "elapsed": 10,
     "status": "aborted",
     "timestamp": 1676789674927,
     "user": {
      "displayName": "Anisha Udayakumar",
      "userId": "15636150326071445597"
     },
     "user_tz": -330
    },
    "id": "sYxMCvWec36s"
   },
   "outputs": [],
   "source": [
    "!git clone https://github.com/AnishaUdayakumar/YoloV5-Football-Tracker.git"
   ]
  },
  {
   "cell_type": "code",
   "execution_count": null,
   "metadata": {
    "executionInfo": {
     "elapsed": 10,
     "status": "aborted",
     "timestamp": 1676789674927,
     "user": {
      "displayName": "Anisha Udayakumar",
      "userId": "15636150326071445597"
     },
     "user_tz": -330
    },
    "id": "Q_bWIWvic36s"
   },
   "outputs": [],
   "source": [
    "!python detect.py --weights YoloV5-Football-Tracker/football-players-tracking.pt --img-size 640 --source YoloV5-Football-Tracker/Capture_PNG.rf.f6303bf93745f5fc96343b9929f0bb37.jpg  --device cpu"
   ]
  },
  {
   "cell_type": "markdown",
   "metadata": {
    "id": "Tzov9fEMc36t"
   },
   "source": [
    "Replace the \"Results\" path from above to visualize the prediction result"
   ]
  },
  {
   "cell_type": "code",
   "execution_count": null,
   "metadata": {
    "executionInfo": {
     "elapsed": 9,
     "status": "aborted",
     "timestamp": 1676789674927,
     "user": {
      "displayName": "Anisha Udayakumar",
      "userId": "15636150326071445597"
     },
     "user_tz": -330
    },
    "id": "93lZt0ajc36t"
   },
   "outputs": [],
   "source": [
    "from PIL import Image\n",
    "# visualize prediction result\n",
    "Image.open('runs/detect/exp3/Capture_PNG.rf.f6303bf93745f5fc96343b9929f0bb37.jpg')"
   ]
  },
  {
   "cell_type": "markdown",
   "metadata": {
    "id": "VESisGA8c36t"
   },
   "source": [
    "## Export to ONNX"
   ]
  },
  {
   "cell_type": "markdown",
   "metadata": {
    "id": "N58P-SxUc36u"
   },
   "source": [
    "To export and ONNX format of the model, we will use `export.py` script. Let's check it's arguments.\n",
    "Including whole post-processing to model can help to achieve more perfomant resuls, but in the same time it makes model less flexible and does not guarantee full accuracy reproducibility. \n",
    "It is the reason why we will add only `--grid` parameter to preserve original pytorch model result format."
   ]
  },
  {
   "cell_type": "code",
   "execution_count": null,
   "metadata": {
    "executionInfo": {
     "elapsed": 10,
     "status": "aborted",
     "timestamp": 1676789674928,
     "user": {
      "displayName": "Anisha Udayakumar",
      "userId": "15636150326071445597"
     },
     "user_tz": -330
    },
    "id": "mY1HH5-dc36u"
   },
   "outputs": [],
   "source": [
    "!python export.py --weights YoloV5-Football-Tracker/football-players-tracking.pt --include openvino"
   ]
  },
  {
   "cell_type": "markdown",
   "metadata": {
    "id": "ygKjjm_lc36u"
   },
   "source": [
    "## Check model inference\n",
    "\n",
    "`detect.py` script run pytorch model inference and save image as result,"
   ]
  },
  {
   "cell_type": "code",
   "execution_count": null,
   "metadata": {
    "executionInfo": {
     "elapsed": 10,
     "status": "aborted",
     "timestamp": 1676789674928,
     "user": {
      "displayName": "Anisha Udayakumar",
      "userId": "15636150326071445597"
     },
     "user_tz": -330
    },
    "id": "ol3k7a0Gc36u"
   },
   "outputs": [],
   "source": [
    "!python detect.py --weights YoloV5-Football-Tracker/football-players-tracking_openvino_model --img-size 640 --source YoloV5-Football-Tracker/Capture_PNG.rf.f6303bf93745f5fc96343b9929f0bb37.jpg  --device cpu"
   ]
  },
  {
   "cell_type": "markdown",
   "metadata": {
    "id": "MyfR_S83c36u"
   },
   "source": [
    "Replace the \"Results\" path from above to visualize the prediction result"
   ]
  },
  {
   "cell_type": "code",
   "execution_count": null,
   "metadata": {
    "executionInfo": {
     "elapsed": 10,
     "status": "aborted",
     "timestamp": 1676789674928,
     "user": {
      "displayName": "Anisha Udayakumar",
      "userId": "15636150326071445597"
     },
     "user_tz": -330
    },
    "id": "kEnMjI5Mc36u"
   },
   "outputs": [],
   "source": [
    "from PIL import Image\n",
    "# visualize prediction result\n",
    "Image.open('runs\\detect\\exp4\\Capture_PNG.rf.f6303bf93745f5fc96343b9929f0bb37.jpg')"
   ]
  },
  {
   "cell_type": "code",
   "execution_count": null,
   "metadata": {
    "executionInfo": {
     "elapsed": 10,
     "status": "aborted",
     "timestamp": 1676789674928,
     "user": {
      "displayName": "Anisha Udayakumar",
      "userId": "15636150326071445597"
     },
     "user_tz": -330
    },
    "id": "Ww838nmvc36v"
   },
   "outputs": [],
   "source": [
    "# Inference FP32 model (OpenVINO IR)\n",
    "!benchmark_app -m YoloV5-Football-Tracker/football-players-tracking.onnx -d CPU -api async"
   ]
  },
  {
   "cell_type": "code",
   "execution_count": null,
   "metadata": {
    "executionInfo": {
     "elapsed": 11,
     "status": "aborted",
     "timestamp": 1676789674929,
     "user": {
      "displayName": "Anisha Udayakumar",
      "userId": "15636150326071445597"
     },
     "user_tz": -330
    },
    "id": "8DmLE3KUc36v"
   },
   "outputs": [],
   "source": [
    "# Inference INT8 model (OpenVINO IR)\n",
    "!benchmark_app -m YoloV5-Football-Tracker/football-players-tracking_openvino_model/football-players-tracking.xml -d CPU -api async"
   ]
  }
 ],
 "metadata": {
  "colab": {
   "provenance": []
  },
  "kernelspec": {
   "display_name": "Python 3 (ipykernel)",
   "language": "python",
   "name": "python3"
  },
  "language_info": {
   "codemirror_mode": {
    "name": "ipython",
    "version": 3
   },
   "file_extension": ".py",
   "mimetype": "text/x-python",
   "name": "python",
   "nbconvert_exporter": "python",
   "pygments_lexer": "ipython3",
   "version": "3.9.16"
  },
  "vscode": {
   "interpreter": {
    "hash": "916dbcbb3f70747c44a77c7bcd40155683ae19c65e1c03b4aa3499c5328201f1"
   }
  }
 },
 "nbformat": 4,
 "nbformat_minor": 4
}
